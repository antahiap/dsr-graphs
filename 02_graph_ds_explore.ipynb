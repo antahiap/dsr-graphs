{
  "cells": [
    {
      "cell_type": "markdown",
      "metadata": {
        "id": "view-in-github",
        "colab_type": "text"
      },
      "source": [
        "<a href=\"https://colab.research.google.com/github/antahiap/dsr-graphs/blob/main/02_graph_ds_explore.ipynb\" target=\"_parent\"><img src=\"https://colab.research.google.com/assets/colab-badge.svg\" alt=\"Open In Colab\"/></a>"
      ]
    },
    {
      "cell_type": "markdown",
      "source": [
        "## Set Dependencies"
      ],
      "metadata": {
        "id": "ni_FJCbhXlOQ"
      }
    },
    {
      "cell_type": "code",
      "source": [
        "import os\n",
        "REPO_NAME = 'dataweek_brox_24_internal'\n",
        "\n",
        "if not os.path.isdir(REPO_NAME):\n",
        "\n",
        "  !git clone https://github.com/brox-it/dataweek_brox_24_internal.git\n",
        "else:\n",
        "  !cd {REPO_NAME}; git pull"
      ],
      "metadata": {
        "id": "xPBaxfxlYBzF",
        "outputId": "8b716373-1ae0-4a59-fd0a-88ce6091a8f3",
        "colab": {
          "base_uri": "https://localhost:8080/"
        }
      },
      "execution_count": null,
      "outputs": [
        {
          "output_type": "stream",
          "name": "stdout",
          "text": [
            "Already up to date.\n"
          ]
        }
      ]
    },
    {
      "cell_type": "code",
      "source": [
        "if not os.path.isdir(REPO_NAME):\n",
        "  user = getpass('GitHub user')\n",
        "  password = getpass('GitHub password')\n",
        "  os.environ['GITHUB_AUTH'] = user + ':' + password\n",
        "\n",
        "  !git clone https://$GITHUB_AUTH@github.com/brox-it/contract_management.git\n",
        "else:\n",
        "  !cd contract_management/; git pull"
      ],
      "metadata": {
        "id": "N3npiybKXkwB"
      },
      "execution_count": null,
      "outputs": []
    },
    {
      "cell_type": "code",
      "source": [
        "\n",
        "import _path\n",
        "\n",
        "from rdf_to_graph import GraphLib, PlotLib\n"
      ],
      "metadata": {
        "id": "JsX0lBKYYjNE"
      },
      "execution_count": null,
      "outputs": []
    },
    {
      "cell_type": "markdown",
      "metadata": {
        "id": "VcdPXCAUW-Wn"
      },
      "source": [
        "# Computational Graph Visualization"
      ]
    },
    {
      "cell_type": "code",
      "execution_count": null,
      "metadata": {
        "id": "Wezd2akxW-Wo"
      },
      "outputs": [],
      "source": [
        "GL = GraphLib(GRAPH_DB_ENDPOINT)\n",
        "GL.graph_3(50, nJob=20, nCompetence=1000)\n"
      ]
    }
  ],
  "metadata": {
    "language_info": {
      "name": "python"
    },
    "colab": {
      "provenance": [],
      "include_colab_link": true
    },
    "kernelspec": {
      "name": "python3",
      "display_name": "Python 3"
    }
  },
  "nbformat": 4,
  "nbformat_minor": 0
}